import logging
import time
import jwt
import requests
from urllib.parse import urlencode
from typing import Optional

import urllib3
urllib3.disable_warnings(urllib3.exceptions.InsecureRequestWarning)



githubapp_id:str = "1054244"
githubapp_installation_id:str = "57035845"
githubapp_pem_key = r"C:\projetos\IANotebook\pk\notebookgit.2024-11-11.private-key.pem"

repo:str = 'githubapp'
organization:str = 'wilsonsantosnet'
branch='main'

proxies = {}


def __get_github_token() -> str:
    with open(githubapp_pem_key, 'rb') as pem_file:
        signing_key = pem_file.read()
    payload = {
        # Issued at time
        'iat': int(time.time()),
        # JWT expiration time (10 minutes maximum)
        'exp': int(time.time()) + 10,
        # GitHub App's client ID
        'iss': githubapp_id
    }
    # Create JWT
    jwt_token = jwt.encode(payload, signing_key, algorithm='RS256')
    # Get the installation access token based on the JWT
    headers:dict = {
        "Authorization": f"Bearer {jwt_token}",
        "Accept": "application/vnd.github+json",
        "X-GitHub-Api-Version": "2022-11-28"
    }
    url:str = f"https://api.github.com/app/installations/{githubapp_installation_id}/access_tokens"
    
    response:requests.Response = __call_github_api(url=url, headers=headers, method="POST")
    token = response.json().get("token")
    if token is None:
        raise ValueError("Failed to retrieve GitHub token. Response: {}".format(response.json()))
    
    print("token:" + token)
    return token


def __github_headers() -> dict:
    bearer_token:str = __get_github_token()
    headers:dict = {
        "Authorization": f"Bearer {bearer_token}",
        "Accept": "application/vnd.github+json",
        "X-GitHub-Api-Version": "2022-11-28"
    }
    return headers

def __call_github_api(url:str, headers:dict = None, body:dict = None, method:str = "GET") -> requests.Response:
    try:
        return requests.request(method, url, headers=headers or __github_headers(), proxies=proxies, verify=False, json=body)
    except Exception as e:
        logging.exception(f"Falha ao chamar a API do Github: {url}")
        return {}

def __fetch_branch_info(organization:str, repo:str, branch:str) -> requests.Response:
    url = f"https://api.github.com/repos/{organization}/{repo}/branches/{branch}"
    return __call_github_api(url)


def __fetch_pr_info(organization:str, repo:str, pr_number:str, info:str = None) -> dict:
    url = f"https://api.github.com/repos/{organization}/{repo}/pulls/{pr_number}"
    if info:
        url += f"/{info}"
    return __call_github_api(url)
        
info = __fetch_pr_info(organization,repo,"1")
print(info.json())
